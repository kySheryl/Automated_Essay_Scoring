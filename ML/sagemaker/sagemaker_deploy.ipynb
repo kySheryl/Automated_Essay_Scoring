{
 "cells": [
  {
   "cell_type": "code",
   "execution_count": 9,
   "id": "f888c83b",
   "metadata": {},
   "outputs": [
    {
     "name": "stdout",
     "output_type": "stream",
     "text": [
      "CPU times: user 88.5 ms, sys: 16.7 ms, total: 105 ms\n",
      "Wall time: 153 ms\n"
     ]
    }
   ],
   "source": [
    "%%time\n",
    "\n",
    "import os\n",
    "import boto3\n",
    "import sagemaker\n",
    "\n",
    "from sagemaker import get_execution_role\n",
    "\n",
    "region = boto3.Session().region_name\n",
    "\n",
    "role = get_execution_role()"
   ]
  },
  {
   "cell_type": "code",
   "execution_count": 10,
   "id": "4f375b0e",
   "metadata": {},
   "outputs": [
    {
     "name": "stdout",
     "output_type": "stream",
     "text": [
      "arn:aws:iam::296246463737:role/service-role/AmazonSageMaker-ExecutionRole-20211130T161444\n",
      "us-east-1\n",
      "sagemaker-us-east-1-296246463737\n",
      "https://s3-us-east-1.amazonaws.com/sagemaker-us-east-1-296246463737\n"
     ]
    }
   ],
   "source": [
    "# This creates a default S3 bucket where we will upload our model.\n",
    "bucket = sagemaker.Session().default_bucket()\n",
    "bucket_path = \"https://s3-{}.amazonaws.com/{}\".format(region, bucket)\n",
    "print(role)\n",
    "print(region)\n",
    "print(bucket)\n",
    "print(bucket_path)"
   ]
  },
  {
   "cell_type": "code",
   "execution_count": 13,
   "id": "cc882db7",
   "metadata": {},
   "outputs": [],
   "source": [
    "for model_id in range(1,15):\n",
    "    print(model_id)\n",
    "    pytorch_model = PyTorchModel(model_data='s3://sagemaker-us-east-1-296246463737/model' + str(model_id) + '.tar.gz', role=role,\n",
    "                             entry_point='inference.py', framework_version='1.8.0',\n",
    "                             py_version='py3', source_dir='s3://sagemaker-us-east-1-296246463737/model' + str(model_id) + '.tar.gz')\n",
    "    predictor = pytorch_model.deploy(instance_type='ml.t2.medium', initial_instance_count=1, endpoint_name = 'model' + str(model_id) + '-essay-scoring-endpoint')"
   ]
  },
  {
   "cell_type": "code",
   "execution_count": 40,
   "id": "8bfc5f08",
   "metadata": {},
   "outputs": [],
   "source": [
    "# predictor.delete_endpoint()"
   ]
  },
  {
   "cell_type": "code",
   "execution_count": null,
   "id": "ad50898f",
   "metadata": {},
   "outputs": [],
   "source": []
  }
 ],
 "metadata": {
  "kernelspec": {
   "display_name": "conda_pytorch_latest_p36",
   "language": "python",
   "name": "conda_pytorch_latest_p36"
  },
  "language_info": {
   "codemirror_mode": {
    "name": "ipython",
    "version": 3
   },
   "file_extension": ".py",
   "mimetype": "text/x-python",
   "name": "python",
   "nbconvert_exporter": "python",
   "pygments_lexer": "ipython3",
   "version": "3.6.13"
  }
 },
 "nbformat": 4,
 "nbformat_minor": 5
}
